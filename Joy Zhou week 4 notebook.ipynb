{
 "cells": [
  {
   "cell_type": "markdown",
   "metadata": {},
   "source": [
    "Does Covid-19 have the same impact on the developed countries and the developing countries's employement?"
   ]
  },
  {
   "cell_type": "code",
   "execution_count": 1,
   "metadata": {},
   "outputs": [],
   "source": [
    "#Author: Jiayi Zhou\n",
    "#Email: jiayizhou@berkeley.edu\n",
    "#Course: DIGHUM100 \n",
    "#Instructor: Adam Anderson"
   ]
  },
  {
   "cell_type": "code",
   "execution_count": 2,
   "metadata": {},
   "outputs": [],
   "source": [
    "# Imported the libraries needed by this project, this code has referenced the Data8 course \n",
    "# taught at Berkeley during Srping 2020. \n",
    "import numpy as np\n",
    "import pandas as pd\n",
    "\n",
    "from datascience import *\n",
    "\n",
    "%matplotlib inline\n",
    "import matplotlib.pyplot as plots\n",
    "plots.style.use('fivethirtyeight')"
   ]
  },
  {
   "cell_type": "code",
   "execution_count": 3,
   "metadata": {},
   "outputs": [],
   "source": [
    "# from google.colab import drive\n",
    "# drive.mount('/content/drive') "
   ]
  },
  {
   "cell_type": "code",
   "execution_count": 4,
   "metadata": {},
   "outputs": [],
   "source": [
    "# Instructions for dataset import\n",
    "# Step 1: Save the employment_data.csv somewhere in your drive. \n",
    "# Step 2: Click on the \"File\" button on the left vertical bar. \n",
    "# Step 3: Find employment_data.csv, right click, and copy the path. \n",
    "# Step 4: Paste the path in the parentheses after Table.read_table below."
   ]
  },
  {
   "cell_type": "code",
   "execution_count": 5,
   "metadata": {
    "scrolled": true
   },
   "outputs": [
    {
     "data": {
      "text/html": [
       "<table border=\"1\" class=\"dataframe\">\n",
       "    <thead>\n",
       "        <tr>\n",
       "            <th>country</th> <th>total_weekly_hours_worked(estimates_in_thousands)</th> <th>percentage_of_working_hrs_lost</th> <th>percent_hours_lost_40hrs_per_week</th> <th>percent_hours_lost_48hrs_per_week</th> <th>labour_dependency_ratio</th> <th>employed_female_25+_2019</th> <th>employed_male_25+_2019</th> <th>ratio_of_weekly_hours_worked_by_population_age_15-64</th> <th>Developing Country</th>\n",
       "        </tr>\n",
       "    </thead>\n",
       "    <tbody>\n",
       "        <tr>\n",
       "            <td>Afghanistan         </td> <td>350286                                           </td> <td>6.5                           </td> <td>607.476                          </td> <td>506.23                           </td> <td>3.57                   </td> <td>1334.24                 </td> <td>5424.91               </td> <td>16.2                                                </td> <td>1                 </td>\n",
       "        </tr>\n",
       "        <tr>\n",
       "            <td>Angola              </td> <td>457913                                           </td> <td>8.6                           </td> <td>1075.84                          </td> <td>896.532                          </td> <td>1.7                    </td> <td>4612.11                 </td> <td>4724.67               </td> <td>27.1                                                </td> <td>1                 </td>\n",
       "        </tr>\n",
       "        <tr>\n",
       "            <td>Albania             </td> <td>49922.5                                          </td> <td>3.9                           </td> <td>51.087                           </td> <td>42.572                           </td> <td>1.77                   </td> <td>500.112                 </td> <td>651.87                </td> <td>25.5                                                </td> <td>1                 </td>\n",
       "        </tr>\n",
       "        <tr>\n",
       "            <td>United Arab Emirates</td> <td>320690                                           </td> <td>9.3                           </td> <td>824.579                          </td> <td>687.149                          </td> <td>0.41                   </td> <td>996.03                  </td> <td>5111.77               </td> <td>38.6                                                </td> <td>1                 </td>\n",
       "        </tr>\n",
       "        <tr>\n",
       "            <td>Argentina           </td> <td>525994                                           </td> <td>21                            </td> <td>3492.56                          </td> <td>2910.47                          </td> <td>1.43                   </td> <td>7264.33                 </td> <td>9496.19               </td> <td>18.1                                                </td> <td>1                 </td>\n",
       "        </tr>\n",
       "        <tr>\n",
       "            <td>Armenia             </td> <td>31639                                            </td> <td>16.8                          </td> <td>159.418                          </td> <td>132.848                          </td> <td>1.72                   </td> <td>407.158                 </td> <td>519.975               </td> <td>15.8                                                </td> <td>1                 </td>\n",
       "        </tr>\n",
       "        <tr>\n",
       "            <td>Australia           </td> <td>403947                                           </td> <td>4.7                           </td> <td>503.053                          </td> <td>419.211                          </td> <td>0.99                   </td> <td>5017.15                 </td> <td>5849.21               </td> <td>24.6                                                </td> <td>0                 </td>\n",
       "        </tr>\n",
       "        <tr>\n",
       "            <td>Austria             </td> <td>142519                                           </td> <td>10.5                          </td> <td>417.616                          </td> <td>348.013                          </td> <td>1.05                   </td> <td>1843.94                 </td> <td>2109.05               </td> <td>23.8                                                </td> <td>0                 </td>\n",
       "        </tr>\n",
       "        <tr>\n",
       "            <td>Azerbaijan          </td> <td>153216                                           </td> <td>14.1                          </td> <td>630.631                          </td> <td>525.526                          </td> <td>1.13                   </td> <td>2106.55                 </td> <td>2237.43               </td> <td>21.7                                                </td> <td>1                 </td>\n",
       "        </tr>\n",
       "        <tr>\n",
       "            <td>Burundi             </td> <td>203900                                           </td> <td>-0.1                          </td> <td>-4.467                           </td> <td>-3.723                           </td> <td>1.36                   </td> <td>1931.62                 </td> <td>1838.08               </td> <td>32.7                                                </td> <td>1                 </td>\n",
       "        </tr>\n",
       "    </tbody>\n",
       "</table>\n",
       "<p>... (179 rows omitted)</p>"
      ],
      "text/plain": [
       "country              | total_weekly_hours_worked(estimates_in_thousands) | percentage_of_working_hrs_lost | percent_hours_lost_40hrs_per_week | percent_hours_lost_48hrs_per_week | labour_dependency_ratio | employed_female_25+_2019 | employed_male_25+_2019 | ratio_of_weekly_hours_worked_by_population_age_15-64 | Developing Country\n",
       "Afghanistan          | 350286                                            | 6.5                            | 607.476                           | 506.23                            | 3.57                    | 1334.24                  | 5424.91                | 16.2                                                 | 1\n",
       "Angola               | 457913                                            | 8.6                            | 1075.84                           | 896.532                           | 1.7                     | 4612.11                  | 4724.67                | 27.1                                                 | 1\n",
       "Albania              | 49922.5                                           | 3.9                            | 51.087                            | 42.572                            | 1.77                    | 500.112                  | 651.87                 | 25.5                                                 | 1\n",
       "United Arab Emirates | 320690                                            | 9.3                            | 824.579                           | 687.149                           | 0.41                    | 996.03                   | 5111.77                | 38.6                                                 | 1\n",
       "Argentina            | 525994                                            | 21                             | 3492.56                           | 2910.47                           | 1.43                    | 7264.33                  | 9496.19                | 18.1                                                 | 1\n",
       "Armenia              | 31639                                             | 16.8                           | 159.418                           | 132.848                           | 1.72                    | 407.158                  | 519.975                | 15.8                                                 | 1\n",
       "Australia            | 403947                                            | 4.7                            | 503.053                           | 419.211                           | 0.99                    | 5017.15                  | 5849.21                | 24.6                                                 | 0\n",
       "Austria              | 142519                                            | 10.5                           | 417.616                           | 348.013                           | 1.05                    | 1843.94                  | 2109.05                | 23.8                                                 | 0\n",
       "Azerbaijan           | 153216                                            | 14.1                           | 630.631                           | 525.526                           | 1.13                    | 2106.55                  | 2237.43                | 21.7                                                 | 1\n",
       "Burundi              | 203900                                            | -0.1                           | -4.467                            | -3.723                            | 1.36                    | 1931.62                  | 1838.08                | 32.7                                                 | 1\n",
       "... (179 rows omitted)"
      ]
     },
     "execution_count": 5,
     "metadata": {},
     "output_type": "execute_result"
    }
   ],
   "source": [
    "# imported the employment dataset. The dummy variable is added by myself according to the United Nation's publication. \n",
    "# I have categorized all the transitioning countries into developing countries, as they are not yet fully developed \n",
    "# by definition\n",
    "# location in author's Drive: \"/content/drive/MyDrive/Dataset for DIGHUM100/employment_data.csv\"\n",
    "employment = Table.read_table(\"employment_data.csv\")\n",
    "employment"
   ]
  },
  {
   "cell_type": "code",
   "execution_count": 6,
   "metadata": {},
   "outputs": [],
   "source": [
    "# DESCRIPTIONS OF THE COLUMNS IN THE DATASETS BASED ON KAGGLE - DIRECTLY QUOTED FROM KAGGLE \n",
    "# Note: Collated various datasets from covid monitoring section. Most of the estimates are from 2020.\n",
    "# country - Name of Country\n",
    "# total_weekly_hours_worked(estimates_in_thousands) - Total weekly hours worked of employed persons\n",
    "# percentage_of_working_hrs_lost(%) - Percentage of hours lost compared to the baseline (4th quarter of 2019)\n",
    "# percent_hours_lost_40hrs_per_week(thousands) - Percentage of hours lost compared to the baseline (4th quarter of 2019) expressed in full-time equivalent employment losses. This measure is constructed by dividing the number of weekly hours lost due to COVID-19 and dividing them by 40.\n",
    "# percent_hours_lost_48hrs_per_week(thousands) - Percentage of hours lost compared to the baseline (4th quarter of 2019) expressed in full-time equivalent employment losses. This measure constructed by dividing the number of weekly hours lost due to COVID-19 and dividing them by 48.\n",
    "# labour_dependency_ratio - Ratio of dependants (persons aged 0 to 14 + persons aged 15 and above that are either outside the labour force or unemployed) to total employment.\n",
    "# employed_female_25+_2019(estimates in thousands) - Employed female in 2019 who, during a specified brief period, were in one of the following categories: a) paid employment (whether at work or with a job but not at work); or b) self-employment (whether at work or with an enterprise but not at work).\n",
    "# employed_male_25+_2019(estimates in thousands) - Employed male in 2019 who, during a specified brief period, were in one of the following categories: a) paid employment (whether at work or with a job but not at work); or b) self-employment (whether at work or with an enterprise but not at work).\n",
    "# ratio_of_weekly_hours_worked_by_population_age_15-64 - Ratio of total weekly hours worked to population aged 15-64."
   ]
  },
  {
   "cell_type": "code",
   "execution_count": 7,
   "metadata": {},
   "outputs": [
    {
     "data": {
      "text/plain": [
       "189"
      ]
     },
     "execution_count": 7,
     "metadata": {},
     "output_type": "execute_result"
    }
   ],
   "source": [
    "# the number of countries that are included in the datasets\n",
    "len(employment.column('country'))"
   ]
  },
  {
   "cell_type": "code",
   "execution_count": 8,
   "metadata": {},
   "outputs": [
    {
     "data": {
      "text/plain": [
       "0.8095238095238095"
      ]
     },
     "execution_count": 8,
     "metadata": {},
     "output_type": "execute_result"
    }
   ],
   "source": [
    "# the proportion of countries in the table that is a developing country\n",
    "np.average(employment.column('Developing Country') == 1)"
   ]
  },
  {
   "cell_type": "code",
   "execution_count": 9,
   "metadata": {},
   "outputs": [
    {
     "data": {
      "text/plain": [
       "9.169281045751635"
      ]
     },
     "execution_count": 9,
     "metadata": {},
     "output_type": "execute_result"
    }
   ],
   "source": [
    "# selected all the countries that are developing countries\n",
    "employment_developing = employment.where('Developing Country', are.equal_to(1))\n",
    "# calculated the average percentage of working hours loss in the developing countries\n",
    "developing_percentage_working_hours_lost = np.average(employment_developing.column('percentage_of_working_hrs_lost'))\n",
    "developing_percentage_working_hours_lost                                                                                                                "
   ]
  },
  {
   "cell_type": "code",
   "execution_count": 10,
   "metadata": {},
   "outputs": [
    {
     "data": {
      "text/plain": [
       "7.319444444444445"
      ]
     },
     "execution_count": 10,
     "metadata": {},
     "output_type": "execute_result"
    }
   ],
   "source": [
    "# selected all the countries that are developed countries\n",
    "employment_developed = employment.where('Developing Country', are.equal_to(0))\n",
    "# calculated the average percentage of working hours loss in the developed countries\n",
    "developed_percentage_working_hours_lost = np.average(employment_developed.column('percentage_of_working_hrs_lost'))\n",
    "developed_percentage_working_hours_lost"
   ]
  },
  {
   "cell_type": "code",
   "execution_count": 11,
   "metadata": {},
   "outputs": [],
   "source": [
    "# Visualization: average percentage of working hours loss in the developed countries vs. developing country. \n",
    "# Reference: https://www.tutorialspoint.com/matplotlib/matplotlib_bar_plot.htm"
   ]
  },
  {
   "cell_type": "code",
   "execution_count": 12,
   "metadata": {},
   "outputs": [
    {
     "data": {
      "text/plain": [
       "<BarContainer object of 2 artists>"
      ]
     },
     "execution_count": 12,
     "metadata": {},
     "output_type": "execute_result"
    },
    {
     "data": {
      "image/png": "[encoded data removed]",
      "text/plain": [
       "<Figure size 432x288 with 1 Axes>"
      ]
     },
     "metadata": {},
     "output_type": "display_data"
    }
   ],
   "source": [
    "fig = plots.figure()\n",
    "ax = fig.add_axes([0,0,1,1])\n",
    "x_name = ['Developing', 'Developed']\n",
    "bar_value = [developing_percentage_working_hours_lost, developed_percentage_working_hours_lost]\n",
    "ax.bar(x_name,bar_value)"
   ]
  },
  {
   "cell_type": "code",
   "execution_count": 13,
   "metadata": {},
   "outputs": [
    {
     "data": {
      "text/plain": [
       "1.7208496732026142"
      ]
     },
     "execution_count": 13,
     "metadata": {},
     "output_type": "execute_result"
    }
   ],
   "source": [
    "# calculated the dependency ratio in the developing countries. \n",
    "developing_dependency_ratio = np.average(employment_developing.column('labour_dependency_ratio'))\n",
    "developing_dependency_ratio"
   ]
  },
  {
   "cell_type": "code",
   "execution_count": 14,
   "metadata": {},
   "outputs": [
    {
     "data": {
      "text/plain": [
       "1.2297222222222224"
      ]
     },
     "execution_count": 14,
     "metadata": {},
     "output_type": "execute_result"
    }
   ],
   "source": [
    "# calculated the dependency ratio in the developed countries. \n",
    "developed_dependency_ratio = np.average(employment_developed.column('labour_dependency_ratio'))\n",
    "developed_dependency_ratio"
   ]
  },
  {
   "cell_type": "code",
   "execution_count": 15,
   "metadata": {},
   "outputs": [
    {
     "name": "stderr",
     "output_type": "stream",
     "text": [
      "/opt/conda/lib/python3.8/site-packages/datascience/tables.py:920: VisibleDeprecationWarning: Creating an ndarray from ragged nested sequences (which is a list-or-tuple of lists-or-tuples-or ndarrays with different lengths or shapes) is deprecated. If you meant to do this, you must specify 'dtype=object' when creating the ndarray\n",
      "  values = np.array(tuple(values))\n"
     ]
    },
    {
     "data": {
      "image/png": "[encoded data removed]",
      "text/plain": [
       "<Figure size 432x288 with 1 Axes>"
      ]
     },
     "metadata": {},
     "output_type": "display_data"
    }
   ],
   "source": [
    "# Visualization 1: percentage of working hours lost in the developed/developing countries.\n",
    "working_hour_visualization= employment.select('Developing Country', 'percentage_of_working_hrs_lost')\n",
    "working_hour_visualization.hist('percentage_of_working_hrs_lost', group = 'Developing Country')"
   ]
  },
  {
   "cell_type": "code",
   "execution_count": 16,
   "metadata": {},
   "outputs": [
    {
     "name": "stderr",
     "output_type": "stream",
     "text": [
      "/opt/conda/lib/python3.8/site-packages/datascience/tables.py:920: VisibleDeprecationWarning: Creating an ndarray from ragged nested sequences (which is a list-or-tuple of lists-or-tuples-or ndarrays with different lengths or shapes) is deprecated. If you meant to do this, you must specify 'dtype=object' when creating the ndarray\n",
      "  values = np.array(tuple(values))\n"
     ]
    },
    {
     "data": {
      "image/png": "[encoded data removed]",
      "text/plain": [
       "<Figure size 432x288 with 1 Axes>"
      ]
     },
     "metadata": {},
     "output_type": "display_data"
    }
   ],
   "source": [
    "# Visualization 2: labour dependency ratios in the developed/developing countries.\n",
    "dependency_visualization = employment.select('Developing Country', 'labour_dependency_ratio')\n",
    "dependency_visualization.hist('labour_dependency_ratio', group = 'Developing Country')"
   ]
  },
  {
   "cell_type": "code",
   "execution_count": 17,
   "metadata": {},
   "outputs": [],
   "source": [
    "# Investigate whether Covid-19 has impacted the employment rates of thedeveloped and developing countries\n",
    "# differently by conducting a hypothesis testing."
   ]
  },
  {
   "cell_type": "code",
   "execution_count": 18,
   "metadata": {},
   "outputs": [],
   "source": [
    "# AB Testing: Does the percentage of working hours lost in the developed countries come from the same underlying \n",
    "# distribution with the developing countries? \n",
    "# Null Hypothesis: In the world, the percentage of weekly working hours lost in the developing countries and the\n",
    "# developed countries are the same. \n",
    "# Alternative Hypothesis: In the world, the percentage of weekly working hours lost in the developing countries is more\n",
    "# than the developed countries. \n",
    "# Test Statistics: Percentage of weekly working hours lost in developing countries - in the developed countries. \n",
    "# Positive test statistics favor the alternative.\n",
    "\n",
    "# Reference: The coding of this AB Testing and P-value calculation were taught in DATA8 course which I took at Berkeley\n",
    "# during Spring 2020. "
   ]
  },
  {
   "cell_type": "code",
   "execution_count": 19,
   "metadata": {},
   "outputs": [
    {
     "data": {
      "text/html": [
       "<table border=\"1\" class=\"dataframe\">\n",
       "    <thead>\n",
       "        <tr>\n",
       "            <th>Developing Country</th> <th>percentage_of_working_hrs_lost</th>\n",
       "        </tr>\n",
       "    </thead>\n",
       "    <tbody>\n",
       "        <tr>\n",
       "            <td>1                 </td> <td>6.5                           </td>\n",
       "        </tr>\n",
       "        <tr>\n",
       "            <td>1                 </td> <td>8.6                           </td>\n",
       "        </tr>\n",
       "        <tr>\n",
       "            <td>1                 </td> <td>3.9                           </td>\n",
       "        </tr>\n",
       "        <tr>\n",
       "            <td>1                 </td> <td>9.3                           </td>\n",
       "        </tr>\n",
       "        <tr>\n",
       "            <td>1                 </td> <td>21                            </td>\n",
       "        </tr>\n",
       "        <tr>\n",
       "            <td>1                 </td> <td>16.8                          </td>\n",
       "        </tr>\n",
       "        <tr>\n",
       "            <td>0                 </td> <td>4.7                           </td>\n",
       "        </tr>\n",
       "        <tr>\n",
       "            <td>0                 </td> <td>10.5                          </td>\n",
       "        </tr>\n",
       "        <tr>\n",
       "            <td>1                 </td> <td>14.1                          </td>\n",
       "        </tr>\n",
       "        <tr>\n",
       "            <td>1                 </td> <td>-0.1                          </td>\n",
       "        </tr>\n",
       "    </tbody>\n",
       "</table>\n",
       "<p>... (179 rows omitted)</p>"
      ],
      "text/plain": [
       "Developing Country | percentage_of_working_hrs_lost\n",
       "1                  | 6.5\n",
       "1                  | 8.6\n",
       "1                  | 3.9\n",
       "1                  | 9.3\n",
       "1                  | 21\n",
       "1                  | 16.8\n",
       "0                  | 4.7\n",
       "0                  | 10.5\n",
       "1                  | 14.1\n",
       "1                  | -0.1\n",
       "... (179 rows omitted)"
      ]
     },
     "execution_count": 19,
     "metadata": {},
     "output_type": "execute_result"
    }
   ],
   "source": [
    "# Select only the percentage of working hour loss column and the dummy variable \"Developing Country\"\n",
    "AB_Testing_table = employment.select('Developing Country','percentage_of_working_hrs_lost')\n",
    "AB_Testing_table"
   ]
  },
  {
   "cell_type": "code",
   "execution_count": 20,
   "metadata": {},
   "outputs": [
    {
     "data": {
      "text/plain": [
       "1.8498366013071905"
      ]
     },
     "execution_count": 20,
     "metadata": {},
     "output_type": "execute_result"
    }
   ],
   "source": [
    "# Calculate the observed statistics \n",
    "Average_developing = np.mean(AB_Testing_table.where('Developing Country', 1).column('percentage_of_working_hrs_lost'))\n",
    "Average_developed = np.mean(AB_Testing_table.where('Developing Country', 0).column('percentage_of_working_hrs_lost'))\n",
    "observed_statistics = Average_developing - Average_developed\n",
    "observed_statistics"
   ]
  },
  {
   "cell_type": "code",
   "execution_count": 21,
   "metadata": {},
   "outputs": [],
   "source": [
    "# Shuffle the dummy variable column \n",
    "Shuffle = employment.sample(with_replacement = False).column('Developing Country')"
   ]
  },
  {
   "cell_type": "code",
   "execution_count": 22,
   "metadata": {},
   "outputs": [
    {
     "data": {
      "text/html": [
       "<table border=\"1\" class=\"dataframe\">\n",
       "    <thead>\n",
       "        <tr>\n",
       "            <th>Developing Country</th> <th>percentage_of_working_hrs_lost</th> <th>Shuffled Developing Country</th>\n",
       "        </tr>\n",
       "    </thead>\n",
       "    <tbody>\n",
       "        <tr>\n",
       "            <td>1                 </td> <td>6.5                           </td> <td>1                          </td>\n",
       "        </tr>\n",
       "        <tr>\n",
       "            <td>1                 </td> <td>8.6                           </td> <td>1                          </td>\n",
       "        </tr>\n",
       "        <tr>\n",
       "            <td>1                 </td> <td>3.9                           </td> <td>1                          </td>\n",
       "        </tr>\n",
       "        <tr>\n",
       "            <td>1                 </td> <td>9.3                           </td> <td>1                          </td>\n",
       "        </tr>\n",
       "        <tr>\n",
       "            <td>1                 </td> <td>21                            </td> <td>1                          </td>\n",
       "        </tr>\n",
       "        <tr>\n",
       "            <td>1                 </td> <td>16.8                          </td> <td>1                          </td>\n",
       "        </tr>\n",
       "        <tr>\n",
       "            <td>0                 </td> <td>4.7                           </td> <td>1                          </td>\n",
       "        </tr>\n",
       "        <tr>\n",
       "            <td>0                 </td> <td>10.5                          </td> <td>1                          </td>\n",
       "        </tr>\n",
       "        <tr>\n",
       "            <td>1                 </td> <td>14.1                          </td> <td>1                          </td>\n",
       "        </tr>\n",
       "        <tr>\n",
       "            <td>1                 </td> <td>-0.1                          </td> <td>1                          </td>\n",
       "        </tr>\n",
       "    </tbody>\n",
       "</table>\n",
       "<p>... (179 rows omitted)</p>"
      ],
      "text/plain": [
       "Developing Country | percentage_of_working_hrs_lost | Shuffled Developing Country\n",
       "1                  | 6.5                            | 1\n",
       "1                  | 8.6                            | 1\n",
       "1                  | 3.9                            | 1\n",
       "1                  | 9.3                            | 1\n",
       "1                  | 21                             | 1\n",
       "1                  | 16.8                           | 1\n",
       "0                  | 4.7                            | 1\n",
       "0                  | 10.5                           | 1\n",
       "1                  | 14.1                           | 1\n",
       "1                  | -0.1                           | 1\n",
       "... (179 rows omitted)"
      ]
     },
     "execution_count": 22,
     "metadata": {},
     "output_type": "execute_result"
    }
   ],
   "source": [
    "# Combine the shuffled column with the original table \n",
    "AB_Testing = AB_Testing_table.with_column('Shuffled Developing Country', Shuffle)\n",
    "AB_Testing"
   ]
  },
  {
   "cell_type": "code",
   "execution_count": 23,
   "metadata": {},
   "outputs": [],
   "source": [
    "# Created a stimulation function\n",
    "def one_stimulation(table, label, group_label):\n",
    "    # Created a shuffled_column with the group label\n",
    "    Shuffled_column = table.sample(with_replacement = False).column(group_label)\n",
    "    # Added the shuffled column to the originla table\n",
    "    original_and_shuffled = table.with_column('Shuffled_label', Shuffled_column)\n",
    "    # Selected only the developing country after shuffling\n",
    "    shuffled_developing = original_and_shuffled.where('Shuffled_label', 1)\n",
    "    # Selected only the developed country after shuffling\n",
    "    shuffled_developed = original_and_shuffled.where('Shuffled_label', 0)\n",
    "    # Calculated the difference\n",
    "    difference = np.average(shuffled_developing.column(label)) - np.average(shuffled_developed.column(label))\n",
    "    return difference "
   ]
  },
  {
   "cell_type": "code",
   "execution_count": 24,
   "metadata": {},
   "outputs": [],
   "source": [
    "differences_stimulation_results = make_array()\n",
    "\n",
    "# 5000 trials of shuffling and difference calculation\n",
    "for i in np.arange(5000):\n",
    "    new_difference = one_stimulation(AB_Testing_table, 'percentage_of_working_hrs_lost', 'Developing Country')\n",
    "    differences_stimulation_results = np.append(differences_stimulation_results, new_difference)"
   ]
  },
  {
   "cell_type": "code",
   "execution_count": 25,
   "metadata": {},
   "outputs": [
    {
     "name": "stdout",
     "output_type": "stream",
     "text": [
      "Observed Statistics: 1.8498366013071905\n"
     ]
    },
    {
     "data": {
      "image/png": "[encoded data removed]",
      "text/plain": [
       "<Figure size 432x288 with 1 Axes>"
      ]
     },
     "metadata": {},
     "output_type": "display_data"
    }
   ],
   "source": [
    "Table().with_column('Difference between the percentage of working hour loss in the developing and developed countries', differences_stimulation_results).hist()\n",
    "print('Observed Statistics:', observed_statistics)\n",
    "plots.title('Prediction Under the Null Hypothesis');"
   ]
  },
  {
   "cell_type": "code",
   "execution_count": 26,
   "metadata": {},
   "outputs": [
    {
     "data": {
      "text/plain": [
       "0.0192"
      ]
     },
     "execution_count": 26,
     "metadata": {},
     "output_type": "execute_result"
    }
   ],
   "source": [
    "# p-value calculation\n",
    "sum(differences_stimulation_results >= observed_statistics) / len(differences_stimulation_results)"
   ]
  },
  {
   "cell_type": "code",
   "execution_count": 27,
   "metadata": {},
   "outputs": [],
   "source": [
    "# Results Interpretation: If we take 5% as the significance level, the observed_statistics < 0.05. We would reject the null hypothesis \n",
    "# and conclude that the percentage of working hour loss in the developing countries is larger than the percentage of \n",
    "# working hour loss in the developed countries under the impact of covid-19. "
   ]
  },
  {
   "cell_type": "code",
   "execution_count": 28,
   "metadata": {},
   "outputs": [],
   "source": [
    "# generated a total employed population column by adding the employed female and the employed males together\n",
    "employed_population = employment.column('employed_female_25+_2019') + employment.column('employed_male_25+_2019')"
   ]
  },
  {
   "cell_type": "code",
   "execution_count": 29,
   "metadata": {},
   "outputs": [
    {
     "data": {
      "text/html": [
       "<table border=\"1\" class=\"dataframe\">\n",
       "    <thead>\n",
       "        <tr>\n",
       "            <th>country</th> <th>total_weekly_hours_worked(estimates_in_thousands)</th> <th>percentage_of_working_hrs_lost</th> <th>percent_hours_lost_40hrs_per_week</th> <th>percent_hours_lost_48hrs_per_week</th> <th>labour_dependency_ratio</th> <th>employed_female_25+_2019</th> <th>employed_male_25+_2019</th> <th>ratio_of_weekly_hours_worked_by_population_age_15-64</th> <th>Developing Country</th> <th>employed population in thousands</th>\n",
       "        </tr>\n",
       "    </thead>\n",
       "    <tbody>\n",
       "        <tr>\n",
       "            <td>Afghanistan         </td> <td>350286                                           </td> <td>6.5                           </td> <td>607.476                          </td> <td>506.23                           </td> <td>3.57                   </td> <td>1334.24                 </td> <td>5424.91               </td> <td>16.2                                                </td> <td>1                 </td> <td>6759.15                         </td>\n",
       "        </tr>\n",
       "        <tr>\n",
       "            <td>Angola              </td> <td>457913                                           </td> <td>8.6                           </td> <td>1075.84                          </td> <td>896.532                          </td> <td>1.7                    </td> <td>4612.11                 </td> <td>4724.67               </td> <td>27.1                                                </td> <td>1                 </td> <td>9336.78                         </td>\n",
       "        </tr>\n",
       "        <tr>\n",
       "            <td>Albania             </td> <td>49922.5                                          </td> <td>3.9                           </td> <td>51.087                           </td> <td>42.572                           </td> <td>1.77                   </td> <td>500.112                 </td> <td>651.87                </td> <td>25.5                                                </td> <td>1                 </td> <td>1151.98                         </td>\n",
       "        </tr>\n",
       "        <tr>\n",
       "            <td>United Arab Emirates</td> <td>320690                                           </td> <td>9.3                           </td> <td>824.579                          </td> <td>687.149                          </td> <td>0.41                   </td> <td>996.03                  </td> <td>5111.77               </td> <td>38.6                                                </td> <td>1                 </td> <td>6107.8                          </td>\n",
       "        </tr>\n",
       "        <tr>\n",
       "            <td>Argentina           </td> <td>525994                                           </td> <td>21                            </td> <td>3492.56                          </td> <td>2910.47                          </td> <td>1.43                   </td> <td>7264.33                 </td> <td>9496.19               </td> <td>18.1                                                </td> <td>1                 </td> <td>16760.5                         </td>\n",
       "        </tr>\n",
       "        <tr>\n",
       "            <td>Armenia             </td> <td>31639                                            </td> <td>16.8                          </td> <td>159.418                          </td> <td>132.848                          </td> <td>1.72                   </td> <td>407.158                 </td> <td>519.975               </td> <td>15.8                                                </td> <td>1                 </td> <td>927.133                         </td>\n",
       "        </tr>\n",
       "        <tr>\n",
       "            <td>Australia           </td> <td>403947                                           </td> <td>4.7                           </td> <td>503.053                          </td> <td>419.211                          </td> <td>0.99                   </td> <td>5017.15                 </td> <td>5849.21               </td> <td>24.6                                                </td> <td>0                 </td> <td>10866.4                         </td>\n",
       "        </tr>\n",
       "        <tr>\n",
       "            <td>Austria             </td> <td>142519                                           </td> <td>10.5                          </td> <td>417.616                          </td> <td>348.013                          </td> <td>1.05                   </td> <td>1843.94                 </td> <td>2109.05               </td> <td>23.8                                                </td> <td>0                 </td> <td>3952.99                         </td>\n",
       "        </tr>\n",
       "        <tr>\n",
       "            <td>Azerbaijan          </td> <td>153216                                           </td> <td>14.1                          </td> <td>630.631                          </td> <td>525.526                          </td> <td>1.13                   </td> <td>2106.55                 </td> <td>2237.43               </td> <td>21.7                                                </td> <td>1                 </td> <td>4343.98                         </td>\n",
       "        </tr>\n",
       "        <tr>\n",
       "            <td>Burundi             </td> <td>203900                                           </td> <td>-0.1                          </td> <td>-4.467                           </td> <td>-3.723                           </td> <td>1.36                   </td> <td>1931.62                 </td> <td>1838.08               </td> <td>32.7                                                </td> <td>1                 </td> <td>3769.7                          </td>\n",
       "        </tr>\n",
       "    </tbody>\n",
       "</table>\n",
       "<p>... (179 rows omitted)</p>"
      ],
      "text/plain": [
       "country              | total_weekly_hours_worked(estimates_in_thousands) | percentage_of_working_hrs_lost | percent_hours_lost_40hrs_per_week | percent_hours_lost_48hrs_per_week | labour_dependency_ratio | employed_female_25+_2019 | employed_male_25+_2019 | ratio_of_weekly_hours_worked_by_population_age_15-64 | Developing Country | employed population in thousands\n",
       "Afghanistan          | 350286                                            | 6.5                            | 607.476                           | 506.23                            | 3.57                    | 1334.24                  | 5424.91                | 16.2                                                 | 1                  | 6759.15\n",
       "Angola               | 457913                                            | 8.6                            | 1075.84                           | 896.532                           | 1.7                     | 4612.11                  | 4724.67                | 27.1                                                 | 1                  | 9336.78\n",
       "Albania              | 49922.5                                           | 3.9                            | 51.087                            | 42.572                            | 1.77                    | 500.112                  | 651.87                 | 25.5                                                 | 1                  | 1151.98\n",
       "United Arab Emirates | 320690                                            | 9.3                            | 824.579                           | 687.149                           | 0.41                    | 996.03                   | 5111.77                | 38.6                                                 | 1                  | 6107.8\n",
       "Argentina            | 525994                                            | 21                             | 3492.56                           | 2910.47                           | 1.43                    | 7264.33                  | 9496.19                | 18.1                                                 | 1                  | 16760.5\n",
       "Armenia              | 31639                                             | 16.8                           | 159.418                           | 132.848                           | 1.72                    | 407.158                  | 519.975                | 15.8                                                 | 1                  | 927.133\n",
       "Australia            | 403947                                            | 4.7                            | 503.053                           | 419.211                           | 0.99                    | 5017.15                  | 5849.21                | 24.6                                                 | 0                  | 10866.4\n",
       "Austria              | 142519                                            | 10.5                           | 417.616                           | 348.013                           | 1.05                    | 1843.94                  | 2109.05                | 23.8                                                 | 0                  | 3952.99\n",
       "Azerbaijan           | 153216                                            | 14.1                           | 630.631                           | 525.526                           | 1.13                    | 2106.55                  | 2237.43                | 21.7                                                 | 1                  | 4343.98\n",
       "Burundi              | 203900                                            | -0.1                           | -4.467                            | -3.723                            | 1.36                    | 1931.62                  | 1838.08                | 32.7                                                 | 1                  | 3769.7\n",
       "... (179 rows omitted)"
      ]
     },
     "execution_count": 29,
     "metadata": {},
     "output_type": "execute_result"
    }
   ],
   "source": [
    "# put the column above into the original dataset - \n",
    "employment_with_population = employment.with_column('employed population in thousands', employed_population) \n",
    "employment_with_population"
   ]
  },
  {
   "cell_type": "code",
   "execution_count": 30,
   "metadata": {},
   "outputs": [],
   "source": [
    "# The total weekly hours worked column in the datasets is an estimation after covid-19, so we would need to use this\n",
    "# information and the percentage of working hours lost due to covid-19 to calculate the pre-shock total weekly \n",
    "# hours worked. The percentage of working hours lost is \n",
    "# negative (after-shock total hours - pre-shock total hours) / pre-shock total hours. \n",
    "# We can just convert this equation to (pre-shock total hours - after-shock total hours) / pre-shock total hours. \n",
    "# Then, the pre-shock total working hours = after-shock working hours / (1 - percentage_of_working_hrs_lost)"
   ]
  },
  {
   "cell_type": "code",
   "execution_count": 31,
   "metadata": {},
   "outputs": [
    {
     "data": {
      "text/plain": [
       "374637.0117647059"
      ]
     },
     "execution_count": 31,
     "metadata": {},
     "output_type": "execute_result"
    }
   ],
   "source": [
    "pre_shock_total_weekly_hours = employment_with_population.column('total_weekly_hours_worked(estimates_in_thousands)') / (1 - (0.01 * employment_with_population.column('percentage_of_working_hrs_lost')))\n",
    "pre_shock_total_weekly_hours.item(0)"
   ]
  },
  {
   "cell_type": "code",
   "execution_count": 32,
   "metadata": {},
   "outputs": [
    {
     "data": {
      "text/html": [
       "<table border=\"1\" class=\"dataframe\">\n",
       "    <thead>\n",
       "        <tr>\n",
       "            <th>country</th> <th>total_weekly_hours_worked(estimates_in_thousands)</th> <th>percentage_of_working_hrs_lost</th> <th>percent_hours_lost_40hrs_per_week</th> <th>percent_hours_lost_48hrs_per_week</th> <th>labour_dependency_ratio</th> <th>employed_female_25+_2019</th> <th>employed_male_25+_2019</th> <th>ratio_of_weekly_hours_worked_by_population_age_15-64</th> <th>Developing Country</th> <th>employed population in thousands</th> <th>total_weekly_hours_worked before Covid-19 in thousands</th>\n",
       "        </tr>\n",
       "    </thead>\n",
       "    <tbody>\n",
       "        <tr>\n",
       "            <td>Afghanistan         </td> <td>350286                                           </td> <td>6.5                           </td> <td>607.476                          </td> <td>506.23                           </td> <td>3.57                   </td> <td>1334.24                 </td> <td>5424.91               </td> <td>16.2                                                </td> <td>1                 </td> <td>6759.15                         </td> <td>374637                                                </td>\n",
       "        </tr>\n",
       "        <tr>\n",
       "            <td>Angola              </td> <td>457913                                           </td> <td>8.6                           </td> <td>1075.84                          </td> <td>896.532                          </td> <td>1.7                    </td> <td>4612.11                 </td> <td>4724.67               </td> <td>27.1                                                </td> <td>1                 </td> <td>9336.78                         </td> <td>500999                                                </td>\n",
       "        </tr>\n",
       "        <tr>\n",
       "            <td>Albania             </td> <td>49922.5                                          </td> <td>3.9                           </td> <td>51.087                           </td> <td>42.572                           </td> <td>1.77                   </td> <td>500.112                 </td> <td>651.87                </td> <td>25.5                                                </td> <td>1                 </td> <td>1151.98                         </td> <td>51948.5                                               </td>\n",
       "        </tr>\n",
       "        <tr>\n",
       "            <td>United Arab Emirates</td> <td>320690                                           </td> <td>9.3                           </td> <td>824.579                          </td> <td>687.149                          </td> <td>0.41                   </td> <td>996.03                  </td> <td>5111.77               </td> <td>38.6                                                </td> <td>1                 </td> <td>6107.8                          </td> <td>353573                                                </td>\n",
       "        </tr>\n",
       "        <tr>\n",
       "            <td>Argentina           </td> <td>525994                                           </td> <td>21                            </td> <td>3492.56                          </td> <td>2910.47                          </td> <td>1.43                   </td> <td>7264.33                 </td> <td>9496.19               </td> <td>18.1                                                </td> <td>1                 </td> <td>16760.5                         </td> <td>665815                                                </td>\n",
       "        </tr>\n",
       "        <tr>\n",
       "            <td>Armenia             </td> <td>31639                                            </td> <td>16.8                          </td> <td>159.418                          </td> <td>132.848                          </td> <td>1.72                   </td> <td>407.158                 </td> <td>519.975               </td> <td>15.8                                                </td> <td>1                 </td> <td>927.133                         </td> <td>38027.7                                               </td>\n",
       "        </tr>\n",
       "        <tr>\n",
       "            <td>Australia           </td> <td>403947                                           </td> <td>4.7                           </td> <td>503.053                          </td> <td>419.211                          </td> <td>0.99                   </td> <td>5017.15                 </td> <td>5849.21               </td> <td>24.6                                                </td> <td>0                 </td> <td>10866.4                         </td> <td>423869                                                </td>\n",
       "        </tr>\n",
       "        <tr>\n",
       "            <td>Austria             </td> <td>142519                                           </td> <td>10.5                          </td> <td>417.616                          </td> <td>348.013                          </td> <td>1.05                   </td> <td>1843.94                 </td> <td>2109.05               </td> <td>23.8                                                </td> <td>0                 </td> <td>3952.99                         </td> <td>159239                                                </td>\n",
       "        </tr>\n",
       "        <tr>\n",
       "            <td>Azerbaijan          </td> <td>153216                                           </td> <td>14.1                          </td> <td>630.631                          </td> <td>525.526                          </td> <td>1.13                   </td> <td>2106.55                 </td> <td>2237.43               </td> <td>21.7                                                </td> <td>1                 </td> <td>4343.98                         </td> <td>178366                                                </td>\n",
       "        </tr>\n",
       "        <tr>\n",
       "            <td>Burundi             </td> <td>203900                                           </td> <td>-0.1                          </td> <td>-4.467                           </td> <td>-3.723                           </td> <td>1.36                   </td> <td>1931.62                 </td> <td>1838.08               </td> <td>32.7                                                </td> <td>1                 </td> <td>3769.7                          </td> <td>203696                                                </td>\n",
       "        </tr>\n",
       "    </tbody>\n",
       "</table>\n",
       "<p>... (179 rows omitted)</p>"
      ],
      "text/plain": [
       "country              | total_weekly_hours_worked(estimates_in_thousands) | percentage_of_working_hrs_lost | percent_hours_lost_40hrs_per_week | percent_hours_lost_48hrs_per_week | labour_dependency_ratio | employed_female_25+_2019 | employed_male_25+_2019 | ratio_of_weekly_hours_worked_by_population_age_15-64 | Developing Country | employed population in thousands | total_weekly_hours_worked before Covid-19 in thousands\n",
       "Afghanistan          | 350286                                            | 6.5                            | 607.476                           | 506.23                            | 3.57                    | 1334.24                  | 5424.91                | 16.2                                                 | 1                  | 6759.15                          | 374637\n",
       "Angola               | 457913                                            | 8.6                            | 1075.84                           | 896.532                           | 1.7                     | 4612.11                  | 4724.67                | 27.1                                                 | 1                  | 9336.78                          | 500999\n",
       "Albania              | 49922.5                                           | 3.9                            | 51.087                            | 42.572                            | 1.77                    | 500.112                  | 651.87                 | 25.5                                                 | 1                  | 1151.98                          | 51948.5\n",
       "United Arab Emirates | 320690                                            | 9.3                            | 824.579                           | 687.149                           | 0.41                    | 996.03                   | 5111.77                | 38.6                                                 | 1                  | 6107.8                           | 353573\n",
       "Argentina            | 525994                                            | 21                             | 3492.56                           | 2910.47                           | 1.43                    | 7264.33                  | 9496.19                | 18.1                                                 | 1                  | 16760.5                          | 665815\n",
       "Armenia              | 31639                                             | 16.8                           | 159.418                           | 132.848                           | 1.72                    | 407.158                  | 519.975                | 15.8                                                 | 1                  | 927.133                          | 38027.7\n",
       "Australia            | 403947                                            | 4.7                            | 503.053                           | 419.211                           | 0.99                    | 5017.15                  | 5849.21                | 24.6                                                 | 0                  | 10866.4                          | 423869\n",
       "Austria              | 142519                                            | 10.5                           | 417.616                           | 348.013                           | 1.05                    | 1843.94                  | 2109.05                | 23.8                                                 | 0                  | 3952.99                          | 159239\n",
       "Azerbaijan           | 153216                                            | 14.1                           | 630.631                           | 525.526                           | 1.13                    | 2106.55                  | 2237.43                | 21.7                                                 | 1                  | 4343.98                          | 178366\n",
       "Burundi              | 203900                                            | -0.1                           | -4.467                            | -3.723                            | 1.36                    | 1931.62                  | 1838.08                | 32.7                                                 | 1                  | 3769.7                           | 203696\n",
       "... (179 rows omitted)"
      ]
     },
     "execution_count": 32,
     "metadata": {},
     "output_type": "execute_result"
    }
   ],
   "source": [
    "# put the column above in the table\n",
    "# Since the total_weekly_hours_worked is an estimation from 2020, we would name the newly crated column \"average weekly working hours after covid-19\"\n",
    "employment_pre_shock= employment_with_population.with_column('total_weekly_hours_worked before Covid-19 in thousands', pre_shock_total_weekly_hours)\n",
    "employment_pre_shock"
   ]
  },
  {
   "cell_type": "code",
   "execution_count": 33,
   "metadata": {},
   "outputs": [],
   "source": [
    "# Since each country has different demography, the number of employed people is also different. A total number does\n",
    "# not present comparable information across country. Therefore, we would need to calculate the weekly hours worked \n",
    "# per person in each country. "
   ]
  },
  {
   "cell_type": "code",
   "execution_count": 34,
   "metadata": {},
   "outputs": [
    {
     "data": {
      "text/html": [
       "<table border=\"1\" class=\"dataframe\">\n",
       "    <thead>\n",
       "        <tr>\n",
       "            <th>country</th> <th>total_weekly_hours_worked(estimates_in_thousands)</th> <th>percentage_of_working_hrs_lost</th> <th>percent_hours_lost_40hrs_per_week</th> <th>percent_hours_lost_48hrs_per_week</th> <th>labour_dependency_ratio</th> <th>employed_female_25+_2019</th> <th>employed_male_25+_2019</th> <th>ratio_of_weekly_hours_worked_by_population_age_15-64</th> <th>Developing Country</th> <th>employed population in thousands</th> <th>total_weekly_hours_worked before Covid-19 in thousands</th> <th>average weekly working hours per person before Covid-19</th>\n",
       "        </tr>\n",
       "    </thead>\n",
       "    <tbody>\n",
       "        <tr>\n",
       "            <td>Afghanistan         </td> <td>350286                                           </td> <td>6.5                           </td> <td>607.476                          </td> <td>506.23                           </td> <td>3.57                   </td> <td>1334.24                 </td> <td>5424.91               </td> <td>16.2                                                </td> <td>1                 </td> <td>6759.15                         </td> <td>374637                                                </td> <td>55.4266                                                </td>\n",
       "        </tr>\n",
       "        <tr>\n",
       "            <td>Angola              </td> <td>457913                                           </td> <td>8.6                           </td> <td>1075.84                          </td> <td>896.532                          </td> <td>1.7                    </td> <td>4612.11                 </td> <td>4724.67               </td> <td>27.1                                                </td> <td>1                 </td> <td>9336.78                         </td> <td>500999                                                </td> <td>53.6587                                                </td>\n",
       "        </tr>\n",
       "        <tr>\n",
       "            <td>Albania             </td> <td>49922.5                                          </td> <td>3.9                           </td> <td>51.087                           </td> <td>42.572                           </td> <td>1.77                   </td> <td>500.112                 </td> <td>651.87                </td> <td>25.5                                                </td> <td>1                 </td> <td>1151.98                         </td> <td>51948.5                                               </td> <td>45.0949                                                </td>\n",
       "        </tr>\n",
       "        <tr>\n",
       "            <td>United Arab Emirates</td> <td>320690                                           </td> <td>9.3                           </td> <td>824.579                          </td> <td>687.149                          </td> <td>0.41                   </td> <td>996.03                  </td> <td>5111.77               </td> <td>38.6                                                </td> <td>1                 </td> <td>6107.8                          </td> <td>353573                                                </td> <td>57.8887                                                </td>\n",
       "        </tr>\n",
       "        <tr>\n",
       "            <td>Argentina           </td> <td>525994                                           </td> <td>21                            </td> <td>3492.56                          </td> <td>2910.47                          </td> <td>1.43                   </td> <td>7264.33                 </td> <td>9496.19               </td> <td>18.1                                                </td> <td>1                 </td> <td>16760.5                         </td> <td>665815                                                </td> <td>39.7252                                                </td>\n",
       "        </tr>\n",
       "        <tr>\n",
       "            <td>Armenia             </td> <td>31639                                            </td> <td>16.8                          </td> <td>159.418                          </td> <td>132.848                          </td> <td>1.72                   </td> <td>407.158                 </td> <td>519.975               </td> <td>15.8                                                </td> <td>1                 </td> <td>927.133                         </td> <td>38027.7                                               </td> <td>41.0164                                                </td>\n",
       "        </tr>\n",
       "        <tr>\n",
       "            <td>Australia           </td> <td>403947                                           </td> <td>4.7                           </td> <td>503.053                          </td> <td>419.211                          </td> <td>0.99                   </td> <td>5017.15                 </td> <td>5849.21               </td> <td>24.6                                                </td> <td>0                 </td> <td>10866.4                         </td> <td>423869                                                </td> <td>39.0075                                                </td>\n",
       "        </tr>\n",
       "        <tr>\n",
       "            <td>Austria             </td> <td>142519                                           </td> <td>10.5                          </td> <td>417.616                          </td> <td>348.013                          </td> <td>1.05                   </td> <td>1843.94                 </td> <td>2109.05               </td> <td>23.8                                                </td> <td>0                 </td> <td>3952.99                         </td> <td>159239                                                </td> <td>40.2832                                                </td>\n",
       "        </tr>\n",
       "        <tr>\n",
       "            <td>Azerbaijan          </td> <td>153216                                           </td> <td>14.1                          </td> <td>630.631                          </td> <td>525.526                          </td> <td>1.13                   </td> <td>2106.55                 </td> <td>2237.43               </td> <td>21.7                                                </td> <td>1                 </td> <td>4343.98                         </td> <td>178366                                                </td> <td>41.0605                                                </td>\n",
       "        </tr>\n",
       "        <tr>\n",
       "            <td>Burundi             </td> <td>203900                                           </td> <td>-0.1                          </td> <td>-4.467                           </td> <td>-3.723                           </td> <td>1.36                   </td> <td>1931.62                 </td> <td>1838.08               </td> <td>32.7                                                </td> <td>1                 </td> <td>3769.7                          </td> <td>203696                                                </td> <td>54.0351                                                </td>\n",
       "        </tr>\n",
       "    </tbody>\n",
       "</table>\n",
       "<p>... (179 rows omitted)</p>"
      ],
      "text/plain": [
       "country              | total_weekly_hours_worked(estimates_in_thousands) | percentage_of_working_hrs_lost | percent_hours_lost_40hrs_per_week | percent_hours_lost_48hrs_per_week | labour_dependency_ratio | employed_female_25+_2019 | employed_male_25+_2019 | ratio_of_weekly_hours_worked_by_population_age_15-64 | Developing Country | employed population in thousands | total_weekly_hours_worked before Covid-19 in thousands | average weekly working hours per person before Covid-19\n",
       "Afghanistan          | 350286                                            | 6.5                            | 607.476                           | 506.23                            | 3.57                    | 1334.24                  | 5424.91                | 16.2                                                 | 1                  | 6759.15                          | 374637                                                 | 55.4266\n",
       "Angola               | 457913                                            | 8.6                            | 1075.84                           | 896.532                           | 1.7                     | 4612.11                  | 4724.67                | 27.1                                                 | 1                  | 9336.78                          | 500999                                                 | 53.6587\n",
       "Albania              | 49922.5                                           | 3.9                            | 51.087                            | 42.572                            | 1.77                    | 500.112                  | 651.87                 | 25.5                                                 | 1                  | 1151.98                          | 51948.5                                                | 45.0949\n",
       "United Arab Emirates | 320690                                            | 9.3                            | 824.579                           | 687.149                           | 0.41                    | 996.03                   | 5111.77                | 38.6                                                 | 1                  | 6107.8                           | 353573                                                 | 57.8887\n",
       "Argentina            | 525994                                            | 21                             | 3492.56                           | 2910.47                           | 1.43                    | 7264.33                  | 9496.19                | 18.1                                                 | 1                  | 16760.5                          | 665815                                                 | 39.7252\n",
       "Armenia              | 31639                                             | 16.8                           | 159.418                           | 132.848                           | 1.72                    | 407.158                  | 519.975                | 15.8                                                 | 1                  | 927.133                          | 38027.7                                                | 41.0164\n",
       "Australia            | 403947                                            | 4.7                            | 503.053                           | 419.211                           | 0.99                    | 5017.15                  | 5849.21                | 24.6                                                 | 0                  | 10866.4                          | 423869                                                 | 39.0075\n",
       "Austria              | 142519                                            | 10.5                           | 417.616                           | 348.013                           | 1.05                    | 1843.94                  | 2109.05                | 23.8                                                 | 0                  | 3952.99                          | 159239                                                 | 40.2832\n",
       "Azerbaijan           | 153216                                            | 14.1                           | 630.631                           | 525.526                           | 1.13                    | 2106.55                  | 2237.43                | 21.7                                                 | 1                  | 4343.98                          | 178366                                                 | 41.0605\n",
       "Burundi              | 203900                                            | -0.1                           | -4.467                            | -3.723                            | 1.36                    | 1931.62                  | 1838.08                | 32.7                                                 | 1                  | 3769.7                           | 203696                                                 | 54.0351\n",
       "... (179 rows omitted)"
      ]
     },
     "execution_count": 34,
     "metadata": {},
     "output_type": "execute_result"
    }
   ],
   "source": [
    "# Create the column described above and add it to the table. \n",
    "average_weekly_working_hours_per_person = employment_pre_shock.column('total_weekly_hours_worked before Covid-19 in thousands')/employment_pre_shock.column('employed population in thousands')\n",
    "employment_individual = employment_pre_shock.with_column('average weekly working hours per person before Covid-19', average_weekly_working_hours_per_person) \n",
    "employment_individual"
   ]
  },
  {
   "cell_type": "code",
   "execution_count": 35,
   "metadata": {},
   "outputs": [
    {
     "data": {
      "text/plain": [
       "48.67377000392789"
      ]
     },
     "execution_count": 35,
     "metadata": {},
     "output_type": "execute_result"
    }
   ],
   "source": [
    "# the mean for average weekly working hours per person in the developing country\n",
    "np.mean(employment_individual.where('Developing Country', 1).column('average weekly working hours per person before Covid-19'))"
   ]
  },
  {
   "cell_type": "code",
   "execution_count": 36,
   "metadata": {},
   "outputs": [
    {
     "data": {
      "text/plain": [
       "40.441416006340035"
      ]
     },
     "execution_count": 36,
     "metadata": {},
     "output_type": "execute_result"
    }
   ],
   "source": [
    "# the mean for average weekly working hours per person in the developed country\n",
    "np.mean(employment_individual.where('Developing Country', 0).column('average weekly working hours per person before Covid-19'))"
   ]
  },
  {
   "cell_type": "code",
   "execution_count": 37,
   "metadata": {},
   "outputs": [],
   "source": [
    "# results interpretations: numerically speaking, it is true that the employees in the developing countries work\n",
    "# longer per week compare with the developed countries. "
   ]
  },
  {
   "cell_type": "code",
   "execution_count": 38,
   "metadata": {},
   "outputs": [
    {
     "name": "stderr",
     "output_type": "stream",
     "text": [
      "/opt/conda/lib/python3.8/site-packages/datascience/tables.py:920: VisibleDeprecationWarning: Creating an ndarray from ragged nested sequences (which is a list-or-tuple of lists-or-tuples-or ndarrays with different lengths or shapes) is deprecated. If you meant to do this, you must specify 'dtype=object' when creating the ndarray\n",
      "  values = np.array(tuple(values))\n"
     ]
    },
    {
     "data": {
      "image/png": "[encoded data removed]",
      "text/plain": [
       "<Figure size 432x288 with 1 Axes>"
      ]
     },
     "metadata": {},
     "output_type": "display_data"
    }
   ],
   "source": [
    "# Visualization 3: individual's weekly working hours before Covid-19 in the developed/developing countries.\n",
    "pre_shock_weekly_hours_visualization = employment_individual.select('Developing Country', 'average weekly working hours per person before Covid-19')\n",
    "pre_shock_weekly_hours_visualization.hist('average weekly working hours per person before Covid-19', group = 'Developing Country')"
   ]
  },
  {
   "cell_type": "code",
   "execution_count": 39,
   "metadata": {},
   "outputs": [],
   "source": [
    "# Regression analysis\n",
    "# Reference: https://stackoverflow.com/questions/27928275/find-p-value-significance-in-scikit-learn-linearregression"
   ]
  },
  {
   "cell_type": "code",
   "execution_count": 40,
   "metadata": {},
   "outputs": [],
   "source": [
    "# assign names to the dependent/independent variable\n",
    "Average_ww_hours_per_person = employment_individual.column('average weekly working hours per person before Covid-19')\n",
    "Developing_country = employment_individual.column('Developing Country').reshape((-1, 1))"
   ]
  },
  {
   "cell_type": "code",
   "execution_count": 41,
   "metadata": {},
   "outputs": [
    {
     "name": "stdout",
     "output_type": "stream",
     "text": [
      "                            OLS Regression Results                            \n",
      "==============================================================================\n",
      "Dep. Variable:                      y   R-squared:                       0.272\n",
      "Model:                            OLS   Adj. R-squared:                  0.268\n",
      "Method:                 Least Squares   F-statistic:                     69.94\n",
      "Date:                Sun, 20 Jun 2021   Prob (F-statistic):           1.38e-14\n",
      "Time:                        20:58:18   Log-Likelihood:                -582.87\n",
      "No. Observations:                 189   AIC:                             1170.\n",
      "Df Residuals:                     187   BIC:                             1176.\n",
      "Df Model:                           1                                         \n",
      "Covariance Type:            nonrobust                                         \n",
      "==============================================================================\n",
      "                 coef    std err          t      P>|t|      [0.025      0.975]\n",
      "------------------------------------------------------------------------------\n",
      "const         40.4414      0.886     45.663      0.000      38.694      42.189\n",
      "x1             8.2324      0.984      8.363      0.000       6.291      10.174\n",
      "==============================================================================\n",
      "Omnibus:                        2.350   Durbin-Watson:                   1.797\n",
      "Prob(Omnibus):                  0.309   Jarque-Bera (JB):                2.009\n",
      "Skew:                           0.153   Prob(JB):                        0.366\n",
      "Kurtosis:                       3.402   Cond. No.                         4.38\n",
      "==============================================================================\n",
      "\n",
      "Warnings:\n",
      "[1] Standard Errors assume that the covariance matrix of the errors is correctly specified.\n"
     ]
    }
   ],
   "source": [
    "# Perform the regression test -- the indepedent variable is the dummy variable \"Developing Country\"\n",
    "# the dependent variable is average weeking working hours per person before Covid-19\n",
    "from sklearn import datasets, linear_model\n",
    "from sklearn.linear_model import LinearRegression\n",
    "import statsmodels.api as sm\n",
    "from scipy import stats\n",
    "\n",
    "X_final = sm.add_constant(Developing_country)\n",
    "est = sm.OLS(Average_ww_hours_per_person, X_final)\n",
    "model_final = est.fit()\n",
    "print(model_final.summary())"
   ]
  },
  {
   "cell_type": "code",
   "execution_count": 42,
   "metadata": {},
   "outputs": [],
   "source": [
    "# Results Interpretation for the regression analysis above: The employees in the developing countries work 8.2324\n",
    "# hours more than the employees in the developed countries on average. Since the p-value for the coefficient x1 is 0,\n",
    "# this means the difference between the average working hours in the developing and developed countries is\n",
    "# statistically significant. "
   ]
  },
  {
   "cell_type": "code",
   "execution_count": 43,
   "metadata": {},
   "outputs": [],
   "source": [
    "# Another question: How is the percentage of working hour lost and the average weekly working hours \n",
    "# before the pandemic correlated? "
   ]
  },
  {
   "cell_type": "code",
   "execution_count": 44,
   "metadata": {},
   "outputs": [
    {
     "name": "stdout",
     "output_type": "stream",
     "text": [
      "                            OLS Regression Results                            \n",
      "==============================================================================\n",
      "Dep. Variable:                      y   R-squared:                       0.001\n",
      "Model:                            OLS   Adj. R-squared:                 -0.005\n",
      "Method:                 Least Squares   F-statistic:                    0.1552\n",
      "Date:                Sun, 20 Jun 2021   Prob (F-statistic):              0.694\n",
      "Time:                        20:58:18   Log-Likelihood:                -565.44\n",
      "No. Observations:                 189   AIC:                             1135.\n",
      "Df Residuals:                     187   BIC:                             1141.\n",
      "Df Model:                           1                                         \n",
      "Covariance Type:            nonrobust                                         \n",
      "==============================================================================\n",
      "                 coef    std err          t      P>|t|      [0.025      0.975]\n",
      "------------------------------------------------------------------------------\n",
      "const          9.8729      2.703      3.653      0.000       4.541      15.205\n",
      "x1            -0.0224      0.057     -0.394      0.694      -0.135       0.090\n",
      "==============================================================================\n",
      "Omnibus:                       23.998   Durbin-Watson:                   1.764\n",
      "Prob(Omnibus):                  0.000   Jarque-Bera (JB):               30.228\n",
      "Skew:                           0.828   Prob(JB):                     2.73e-07\n",
      "Kurtosis:                       4.048   Cond. No.                         364.\n",
      "==============================================================================\n",
      "\n",
      "Warnings:\n",
      "[1] Standard Errors assume that the covariance matrix of the errors is correctly specified.\n"
     ]
    }
   ],
   "source": [
    "# Perform the regression test -- the indepedent variable is the average weekly working hours per person before Covid, \n",
    "# and the dependent variable is percentage of working hour lost\n",
    "percentage_working_hour_lost = employment_individual.column('percentage_of_working_hrs_lost')\n",
    "X2_final = sm.add_constant(Average_ww_hours_per_person)\n",
    "est = sm.OLS(percentage_working_hour_lost, X2_final)\n",
    "model_final_2 = est.fit()\n",
    "print(model_final_2.summary())"
   ]
  },
  {
   "cell_type": "code",
   "execution_count": 46,
   "metadata": {},
   "outputs": [],
   "source": [
    "# The story: based on the analysis presented in the story, the developing countries tend to lose larger percentage\n",
    "# of working hours due to covid-19. This effect is further emplified by the fact that the developing countries have \n",
    "# higher average of weekly working hours beford the pandemic. I originally suspected that there may be a max threshold\n",
    "# that people could work per week after the pandemic occur, causing the percentage loss of working hours to be larger\n",
    "# in countries with higher average of pre-pandemic weekly working hours. But the second regression analyssi has proven\n",
    "# that this is not the case. The developing countries, with their fragile economies that focus on manufacturing, \n",
    "# construction, services, and minning, have higher average working hours before the pandemic because these job pay less. \n",
    "# The employees may need longer working hours in order to support their basic living. Furthermore, the legal system \n",
    "# for labor protection in the developing countries are poorly regulation, and exploitations may exist. After the pandemic\n",
    "# the economies in the developing countries are heavily influenced not only because their jobs are low-skilled and \n",
    "# replaceble, but also because the global economies they rely on is significantly impacted by the healthy crisis. "
   ]
  },
  {
   "cell_type": "code",
   "execution_count": null,
   "metadata": {},
   "outputs": [],
   "source": []
  }
 ],
 "metadata": {
  "kernelspec": {
   "display_name": "Python 3",
   "language": "python",
   "name": "python3"
  },
  "language_info": {
   "codemirror_mode": {
    "name": "ipython",
    "version": 3
   },
   "file_extension": ".py",
   "mimetype": "text/x-python",
   "name": "python",
   "nbconvert_exporter": "python",
   "pygments_lexer": "ipython3",
   "version": "3.8.8"
  }
 },
 "nbformat": 4,
 "nbformat_minor": 4
}
